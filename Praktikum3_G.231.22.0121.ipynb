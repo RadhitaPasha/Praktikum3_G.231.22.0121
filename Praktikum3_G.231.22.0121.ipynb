{
  "cells": [
    {
      "cell_type": "markdown",
      "metadata": {
        "id": "view-in-github",
        "colab_type": "text"
      },
      "source": [
        "<a href=\"https://colab.research.google.com/github/RadhitaPasha/Praktikum3_G.231.22.0121/blob/main/Praktikum3_G.231.22.0121.ipynb\" target=\"_parent\"><img src=\"https://colab.research.google.com/assets/colab-badge.svg\" alt=\"Open In Colab\"/></a>"
      ]
    },
    {
      "cell_type": "code",
      "execution_count": 1,
      "metadata": {
        "colab": {
          "base_uri": "https://localhost:8080/"
        },
        "id": "LlQES5w6rUr9",
        "outputId": "78ad667d-7058-41f3-8131-6cd90ae00d79"
      },
      "outputs": [
        {
          "output_type": "stream",
          "name": "stdout",
          "text": [
            "geeksforgeeks\n"
          ]
        }
      ],
      "source": [
        "char_list = ['g', 'e', 'e', 'k', 's', 'f', 'o', 'r', 'g', 'e', 'e', 'k', 's']\n",
        "\n",
        "result = ''.join(char_list)\n",
        "\n",
        "print(result)"
      ]
    },
    {
      "cell_type": "code",
      "execution_count": 2,
      "metadata": {
        "colab": {
          "base_uri": "https://localhost:8080/"
        },
        "id": "GWP17Zc3f9Fx",
        "outputId": "cfebf9ae-f4d3-4d63-f3a6-b8f435070fef"
      },
      "outputs": [
        {
          "output_type": "stream",
          "name": "stdout",
          "text": [
            "g\n"
          ]
        }
      ],
      "source": [
        "def convert (s):\n",
        "  new = \"\"\n",
        "  for x in s:\n",
        "    new += x\n",
        "    return new\n",
        "\n",
        "# driver code\n",
        "s = ['g', 'e', 'e', 'k', 's', 'f', 'o', 'r',\n",
        "     'g', 'e', 'e', 'k', 's']\n",
        "\n",
        "print(convert(s))\n"
      ]
    },
    {
      "cell_type": "markdown",
      "metadata": {
        "id": "Oy0lsqxol2zg"
      },
      "source": [
        "## **TUGAS**"
      ]
    },
    {
      "cell_type": "code",
      "execution_count": 3,
      "metadata": {
        "colab": {
          "base_uri": "https://localhost:8080/"
        },
        "id": "KLEqfCQHhuCe",
        "outputId": "505d4537-024d-4005-8b43-234bb73234a8"
      },
      "outputs": [
        {
          "output_type": "stream",
          "name": "stdout",
          "text": [
            "programming\n"
          ]
        }
      ],
      "source": [
        "#Masukkan variabel def\n",
        "def programming (c):\n",
        "#Metode ini menggunakan string\n",
        "  str = \"\"\n",
        "#Menggabungkan semua karakter membentuk string\n",
        "  return (str.join(c))\n",
        "# Masukkan daftar karakter (driver code)\n",
        "c = ['p', 'r', 'o', 'g', 'r', 'a', 'm', 'm',\n",
        "     'i', 'n', 'g']\n",
        "#Cetak hasil\n",
        "print(programming(c))\n",
        "\n"
      ]
    }
  ],
  "metadata": {
    "colab": {
      "provenance": [],
      "authorship_tag": "ABX9TyM239+wMAEzt5epMHpeSKpr",
      "include_colab_link": true
    },
    "kernelspec": {
      "display_name": "Python 3",
      "name": "python3"
    },
    "language_info": {
      "name": "python"
    }
  },
  "nbformat": 4,
  "nbformat_minor": 0
}